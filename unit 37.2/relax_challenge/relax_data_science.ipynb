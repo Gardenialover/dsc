{
 "cells": [
  {
   "cell_type": "code",
   "execution_count": 1,
   "id": "975d3842-f25c-40b5-94c9-eeeef067f5d6",
   "metadata": {},
   "outputs": [],
   "source": [
    "import pandas as pd\n",
    "import numpy as np\n",
    "import matplotlib.pyplot as plt\n",
    "import seaborn as sns\n",
    "from datetime import timedelta\n",
    "from sklearn.model_selection import train_test_split\n",
    "from sklearn.ensemble import RandomForestClassifier\n",
    "from sklearn.model_selection import RandomizedSearchCV\n",
    "from sklearn.metrics import classification_report, accuracy_score"
   ]
  },
  {
   "cell_type": "markdown",
   "id": "30bd8d11-99d8-4f4b-881e-fafe960053b6",
   "metadata": {},
   "source": [
    "# Engagement analysis"
   ]
  },
  {
   "cell_type": "code",
   "execution_count": 2,
   "id": "b698134e-f4a6-4f35-ae4f-d6398988afa1",
   "metadata": {},
   "outputs": [
    {
     "name": "stdout",
     "output_type": "stream",
     "text": [
      "            time_stamp  user_id  visited\n",
      "0  2014-04-22 03:53:30        1        1\n",
      "1  2013-11-15 03:45:04        2        1\n",
      "2  2013-11-29 03:45:04        2        1\n",
      "3  2013-12-09 03:45:04        2        1\n",
      "4  2013-12-25 03:45:04        2        1\n",
      "<class 'pandas.core.frame.DataFrame'>\n",
      "RangeIndex: 207917 entries, 0 to 207916\n",
      "Data columns (total 3 columns):\n",
      " #   Column      Non-Null Count   Dtype \n",
      "---  ------      --------------   ----- \n",
      " 0   time_stamp  207917 non-null  object\n",
      " 1   user_id     207917 non-null  int64 \n",
      " 2   visited     207917 non-null  int64 \n",
      "dtypes: int64(2), object(1)\n",
      "memory usage: 4.8+ MB\n",
      "None\n"
     ]
    }
   ],
   "source": [
    "# read data\n",
    "engagement = pd.read_csv(\"../relax_challenge/takehome_user_engagement.csv\")\n",
    "print(engagement.head())\n",
    "print(engagement.info())"
   ]
  },
  {
   "cell_type": "code",
   "execution_count": 3,
   "id": "48cb19be-7e47-4145-8a11-739d78795ece",
   "metadata": {},
   "outputs": [
    {
     "name": "stdout",
     "output_type": "stream",
     "text": [
      "8823\n"
     ]
    }
   ],
   "source": [
    "# convert data type of 'time_stamp'\n",
    "engagement['time_stamp'] = pd.to_datetime(engagement['time_stamp'])\n",
    "\n",
    "# how many unique user_id?\n",
    "print(engagement['user_id'].nunique())"
   ]
  },
  {
   "cell_type": "markdown",
   "id": "02115132-a944-4c83-ab8c-a2e845307742",
   "metadata": {},
   "source": [
    "Defining   an   \"adopted   user\"   as   a   user   who   has   logged   into   the   product   on   three   separate\n",
    "days   in   at   least   one   seven­day   period ,   identify   which   factors   predict   future   user\n",
    "adoption "
   ]
  },
  {
   "cell_type": "code",
   "execution_count": 4,
   "id": "3d3701b5-ec18-4613-ac42-556ffc303fbe",
   "metadata": {},
   "outputs": [],
   "source": [
    "engagement['day'] = engagement['time_stamp'].dt.date"
   ]
  },
  {
   "cell_type": "code",
   "execution_count": 5,
   "id": "78f6ec70-a233-4a9f-bf0e-c647470617d3",
   "metadata": {},
   "outputs": [],
   "source": [
    "adopted = engagement.groupby(\"user_id\").apply(\n",
    "    lambda df: any(\n",
    "        df.drop_duplicates(subset=\"day\")\n",
    "        .sort_values(\"day\")[\"day\"]\n",
    "        .diff(periods=2)\n",
    "        <= timedelta(days=7)\n",
    "    )\n",
    ")"
   ]
  },
  {
   "cell_type": "code",
   "execution_count": 6,
   "id": "017bd7f4-9cbd-4067-b49c-8970ee1a5cfc",
   "metadata": {},
   "outputs": [],
   "source": [
    "adopted =adopted[adopted ==True]\n",
    "adopted = pd.DataFrame(adopted)\n",
    "adopted['user_id'] = adopted.index"
   ]
  },
  {
   "cell_type": "code",
   "execution_count": 7,
   "id": "8e45ff2e",
   "metadata": {},
   "outputs": [
    {
     "data": {
      "text/html": [
       "<div>\n",
       "<style scoped>\n",
       "    .dataframe tbody tr th:only-of-type {\n",
       "        vertical-align: middle;\n",
       "    }\n",
       "\n",
       "    .dataframe tbody tr th {\n",
       "        vertical-align: top;\n",
       "    }\n",
       "\n",
       "    .dataframe thead th {\n",
       "        text-align: right;\n",
       "    }\n",
       "</style>\n",
       "<table border=\"1\" class=\"dataframe\">\n",
       "  <thead>\n",
       "    <tr style=\"text-align: right;\">\n",
       "      <th></th>\n",
       "      <th>time_stamp</th>\n",
       "      <th>user_id</th>\n",
       "      <th>visited</th>\n",
       "      <th>day</th>\n",
       "      <th>adopted_users</th>\n",
       "    </tr>\n",
       "  </thead>\n",
       "  <tbody>\n",
       "    <tr>\n",
       "      <th>0</th>\n",
       "      <td>2014-04-22 03:53:30</td>\n",
       "      <td>1</td>\n",
       "      <td>1</td>\n",
       "      <td>2014-04-22</td>\n",
       "      <td>0</td>\n",
       "    </tr>\n",
       "    <tr>\n",
       "      <th>1</th>\n",
       "      <td>2013-11-15 03:45:04</td>\n",
       "      <td>2</td>\n",
       "      <td>1</td>\n",
       "      <td>2013-11-15</td>\n",
       "      <td>1</td>\n",
       "    </tr>\n",
       "    <tr>\n",
       "      <th>2</th>\n",
       "      <td>2013-11-29 03:45:04</td>\n",
       "      <td>2</td>\n",
       "      <td>1</td>\n",
       "      <td>2013-11-29</td>\n",
       "      <td>1</td>\n",
       "    </tr>\n",
       "    <tr>\n",
       "      <th>3</th>\n",
       "      <td>2013-12-09 03:45:04</td>\n",
       "      <td>2</td>\n",
       "      <td>1</td>\n",
       "      <td>2013-12-09</td>\n",
       "      <td>1</td>\n",
       "    </tr>\n",
       "    <tr>\n",
       "      <th>4</th>\n",
       "      <td>2013-12-25 03:45:04</td>\n",
       "      <td>2</td>\n",
       "      <td>1</td>\n",
       "      <td>2013-12-25</td>\n",
       "      <td>1</td>\n",
       "    </tr>\n",
       "  </tbody>\n",
       "</table>\n",
       "</div>"
      ],
      "text/plain": [
       "           time_stamp  user_id  visited         day  adopted_users\n",
       "0 2014-04-22 03:53:30        1        1  2014-04-22              0\n",
       "1 2013-11-15 03:45:04        2        1  2013-11-15              1\n",
       "2 2013-11-29 03:45:04        2        1  2013-11-29              1\n",
       "3 2013-12-09 03:45:04        2        1  2013-12-09              1\n",
       "4 2013-12-25 03:45:04        2        1  2013-12-25              1"
      ]
     },
     "execution_count": 7,
     "metadata": {},
     "output_type": "execute_result"
    }
   ],
   "source": [
    "adopted_id = adopted['user_id'].unique()\n",
    "\n",
    "engagement['adopted_users'] = engagement['user_id'].apply(lambda x: 1 if x in adopted_id else 0)\n",
    "engagement.head()"
   ]
  },
  {
   "cell_type": "code",
   "execution_count": null,
   "id": "cb4aeae3",
   "metadata": {},
   "outputs": [],
   "source": []
  },
  {
   "cell_type": "markdown",
   "id": "2b47ad1f-9ded-4161-a308-72ff158a7799",
   "metadata": {},
   "source": [
    "# Users Analysis"
   ]
  },
  {
   "cell_type": "code",
   "execution_count": 8,
   "id": "4251de03-bcde-4dcd-bb97-88829f84322e",
   "metadata": {},
   "outputs": [
    {
     "name": "stdout",
     "output_type": "stream",
     "text": [
      "<class 'pandas.core.frame.DataFrame'>\n",
      "RangeIndex: 12000 entries, 0 to 11999\n",
      "Data columns (total 10 columns):\n",
      " #   Column                      Non-Null Count  Dtype  \n",
      "---  ------                      --------------  -----  \n",
      " 0   object_id                   12000 non-null  int64  \n",
      " 1   creation_time               12000 non-null  object \n",
      " 2   name                        12000 non-null  object \n",
      " 3   email                       12000 non-null  object \n",
      " 4   creation_source             12000 non-null  object \n",
      " 5   last_session_creation_time  8823 non-null   float64\n",
      " 6   opted_in_to_mailing_list    12000 non-null  int64  \n",
      " 7   enabled_for_marketing_drip  12000 non-null  int64  \n",
      " 8   org_id                      12000 non-null  int64  \n",
      " 9   invited_by_user_id          6417 non-null   float64\n",
      "dtypes: float64(2), int64(4), object(4)\n",
      "memory usage: 937.6+ KB\n"
     ]
    }
   ],
   "source": [
    "users = pd.read_csv(\"../relax_challenge/takehome_users.csv\",encoding='latin-1')\n",
    "users.info()"
   ]
  },
  {
   "cell_type": "code",
   "execution_count": 9,
   "id": "2a450eab-3183-43c4-8ee3-da537ac14469",
   "metadata": {},
   "outputs": [],
   "source": [
    "users['last_session_creation_time'] = pd.to_datetime(users['last_session_creation_time'], unit='s')\n",
    "users['creation_time'] = pd.to_datetime(users['creation_time'])\n",
    "\n",
    "users['recorded'] = (users['last_session_creation_time']-users['creation_time']).dt.days\n",
    "\n",
    "# add adopted_users to users dataframe\n",
    "users['adopted_users'] = users['object_id'].apply(lambda x: 1 if x in adopted_id else 0)\n"
   ]
  },
  {
   "cell_type": "markdown",
   "id": "31b82824",
   "metadata": {},
   "source": [
    "### Check the percentage of adopted users in opted_in_to_mailing_list, creation_source and enabled_for_marketing_drip"
   ]
  },
  {
   "cell_type": "code",
   "execution_count": 10,
   "id": "b3063547",
   "metadata": {},
   "outputs": [
    {
     "data": {
      "image/png": "[encoded data removed]",
      "text/plain": [
       "<Figure size 640x480 with 1 Axes>"
      ]
     },
     "metadata": {},
     "output_type": "display_data"
    }
   ],
   "source": [
    "users.groupby(['adopted_users','creation_source'])['object_id'].count()/len(users)\n",
    "# Creation source and adopted user\n",
    "_ = sns.countplot(x='creation_source', data=users, hue='adopted_users')\n",
    "_ = plt.xticks(rotation=90)"
   ]
  },
  {
   "cell_type": "code",
   "execution_count": null,
   "id": "2c18297f",
   "metadata": {},
   "outputs": [],
   "source": []
  },
  {
   "cell_type": "code",
   "execution_count": 11,
   "id": "a822d169",
   "metadata": {},
   "outputs": [
    {
     "data": {
      "text/plain": [
       "adopted_users  opted_in_to_mailing_list\n",
       "0              0                           0.64825\n",
       "               1                           0.21375\n",
       "1              0                           0.10225\n",
       "               1                           0.03575\n",
       "Name: object_id, dtype: float64"
      ]
     },
     "execution_count": 11,
     "metadata": {},
     "output_type": "execute_result"
    }
   ],
   "source": [
    "users.groupby(['adopted_users','opted_in_to_mailing_list'])['object_id'].count()/len(users)"
   ]
  },
  {
   "cell_type": "code",
   "execution_count": 12,
   "id": "43a13fab",
   "metadata": {},
   "outputs": [
    {
     "data": {
      "text/plain": [
       "adopted_users  enabled_for_marketing_drip\n",
       "0              0                             0.734083\n",
       "               1                             0.127917\n",
       "1              0                             0.116583\n",
       "               1                             0.021417\n",
       "Name: object_id, dtype: float64"
      ]
     },
     "execution_count": 12,
     "metadata": {},
     "output_type": "execute_result"
    }
   ],
   "source": [
    "users.groupby(['adopted_users','enabled_for_marketing_drip'])['object_id'].count()/len(users)"
   ]
  },
  {
   "cell_type": "markdown",
   "id": "ef2efbb7",
   "metadata": {},
   "source": [
    "As it shows there is no obvious difference of adopted_users and unadopted users in enabled_for_marketing_drip and opted_in_to_mailing_list"
   ]
  },
  {
   "cell_type": "code",
   "execution_count": 13,
   "id": "0b78a965",
   "metadata": {},
   "outputs": [
    {
     "data": {
      "image/png": "[encoded data removed]",
      "text/plain": [
       "<Figure size 800x600 with 1 Axes>"
      ]
     },
     "metadata": {},
     "output_type": "display_data"
    }
   ],
   "source": [
    "plt.figure(figsize =(8,6))\n",
    "_ = plt.hist(users.loc[users['adopted_users']==1, 'recorded'], \n",
    "                 bins=30, alpha=0.5, color='r', label='adopted users')\n",
    "_ = plt.hist(users.loc[users['adopted_users']==0, 'recorded'], \n",
    "                 bins=30, alpha=0.5, color='g', label='non adopted user')\n",
    "_ = plt.yscale('log')\n",
    "_ = plt.legend()\n",
    "_ = plt.xlabel(\"users recorded\")\n",
    "_ = plt.ylabel('No. of users')\n"
   ]
  },
  {
   "cell_type": "code",
   "execution_count": 14,
   "id": "e973c583",
   "metadata": {},
   "outputs": [
    {
     "data": {
      "text/html": [
       "<div>\n",
       "<style scoped>\n",
       "    .dataframe tbody tr th:only-of-type {\n",
       "        vertical-align: middle;\n",
       "    }\n",
       "\n",
       "    .dataframe tbody tr th {\n",
       "        vertical-align: top;\n",
       "    }\n",
       "\n",
       "    .dataframe thead th {\n",
       "        text-align: right;\n",
       "    }\n",
       "</style>\n",
       "<table border=\"1\" class=\"dataframe\">\n",
       "  <thead>\n",
       "    <tr style=\"text-align: right;\">\n",
       "      <th></th>\n",
       "      <th>object_id</th>\n",
       "      <th>creation_time</th>\n",
       "      <th>name</th>\n",
       "      <th>email</th>\n",
       "      <th>last_session_creation_time</th>\n",
       "      <th>opted_in_to_mailing_list</th>\n",
       "      <th>enabled_for_marketing_drip</th>\n",
       "      <th>org_id</th>\n",
       "      <th>invited_by_user_id</th>\n",
       "      <th>recorded</th>\n",
       "      <th>adopted_users</th>\n",
       "      <th>ORG_INVITE</th>\n",
       "      <th>PERSONAL_PROJECTS</th>\n",
       "      <th>SIGNUP</th>\n",
       "      <th>SIGNUP_GOOGLE_AUTH</th>\n",
       "    </tr>\n",
       "  </thead>\n",
       "  <tbody>\n",
       "    <tr>\n",
       "      <th>0</th>\n",
       "      <td>1</td>\n",
       "      <td>2014-04-22 03:53:30</td>\n",
       "      <td>Clausen August</td>\n",
       "      <td>AugustCClausen@yahoo.com</td>\n",
       "      <td>2014-04-22 03:53:30</td>\n",
       "      <td>1</td>\n",
       "      <td>0</td>\n",
       "      <td>11</td>\n",
       "      <td>10803.0</td>\n",
       "      <td>0.0</td>\n",
       "      <td>0</td>\n",
       "      <td>0</td>\n",
       "      <td>0</td>\n",
       "      <td>0</td>\n",
       "      <td>0</td>\n",
       "    </tr>\n",
       "    <tr>\n",
       "      <th>1</th>\n",
       "      <td>2</td>\n",
       "      <td>2013-11-15 03:45:04</td>\n",
       "      <td>Poole Matthew</td>\n",
       "      <td>MatthewPoole@gustr.com</td>\n",
       "      <td>2014-03-31 03:45:04</td>\n",
       "      <td>0</td>\n",
       "      <td>0</td>\n",
       "      <td>1</td>\n",
       "      <td>316.0</td>\n",
       "      <td>136.0</td>\n",
       "      <td>1</td>\n",
       "      <td>1</td>\n",
       "      <td>0</td>\n",
       "      <td>0</td>\n",
       "      <td>0</td>\n",
       "    </tr>\n",
       "    <tr>\n",
       "      <th>2</th>\n",
       "      <td>3</td>\n",
       "      <td>2013-03-19 23:14:52</td>\n",
       "      <td>Bottrill Mitchell</td>\n",
       "      <td>MitchellBottrill@gustr.com</td>\n",
       "      <td>2013-03-19 23:14:52</td>\n",
       "      <td>0</td>\n",
       "      <td>0</td>\n",
       "      <td>94</td>\n",
       "      <td>1525.0</td>\n",
       "      <td>0.0</td>\n",
       "      <td>0</td>\n",
       "      <td>1</td>\n",
       "      <td>0</td>\n",
       "      <td>0</td>\n",
       "      <td>0</td>\n",
       "    </tr>\n",
       "    <tr>\n",
       "      <th>3</th>\n",
       "      <td>4</td>\n",
       "      <td>2013-05-21 08:09:28</td>\n",
       "      <td>Clausen Nicklas</td>\n",
       "      <td>NicklasSClausen@yahoo.com</td>\n",
       "      <td>2013-05-22 08:09:28</td>\n",
       "      <td>0</td>\n",
       "      <td>0</td>\n",
       "      <td>1</td>\n",
       "      <td>5151.0</td>\n",
       "      <td>1.0</td>\n",
       "      <td>0</td>\n",
       "      <td>0</td>\n",
       "      <td>0</td>\n",
       "      <td>0</td>\n",
       "      <td>0</td>\n",
       "    </tr>\n",
       "    <tr>\n",
       "      <th>4</th>\n",
       "      <td>5</td>\n",
       "      <td>2013-01-17 10:14:20</td>\n",
       "      <td>Raw Grace</td>\n",
       "      <td>GraceRaw@yahoo.com</td>\n",
       "      <td>2013-01-22 10:14:20</td>\n",
       "      <td>0</td>\n",
       "      <td>0</td>\n",
       "      <td>193</td>\n",
       "      <td>5240.0</td>\n",
       "      <td>5.0</td>\n",
       "      <td>0</td>\n",
       "      <td>0</td>\n",
       "      <td>0</td>\n",
       "      <td>0</td>\n",
       "      <td>0</td>\n",
       "    </tr>\n",
       "  </tbody>\n",
       "</table>\n",
       "</div>"
      ],
      "text/plain": [
       "   object_id       creation_time               name  \\\n",
       "0          1 2014-04-22 03:53:30     Clausen August   \n",
       "1          2 2013-11-15 03:45:04      Poole Matthew   \n",
       "2          3 2013-03-19 23:14:52  Bottrill Mitchell   \n",
       "3          4 2013-05-21 08:09:28    Clausen Nicklas   \n",
       "4          5 2013-01-17 10:14:20          Raw Grace   \n",
       "\n",
       "                        email last_session_creation_time  \\\n",
       "0    AugustCClausen@yahoo.com        2014-04-22 03:53:30   \n",
       "1      MatthewPoole@gustr.com        2014-03-31 03:45:04   \n",
       "2  MitchellBottrill@gustr.com        2013-03-19 23:14:52   \n",
       "3   NicklasSClausen@yahoo.com        2013-05-22 08:09:28   \n",
       "4          GraceRaw@yahoo.com        2013-01-22 10:14:20   \n",
       "\n",
       "   opted_in_to_mailing_list  enabled_for_marketing_drip  org_id  \\\n",
       "0                         1                           0      11   \n",
       "1                         0                           0       1   \n",
       "2                         0                           0      94   \n",
       "3                         0                           0       1   \n",
       "4                         0                           0     193   \n",
       "\n",
       "   invited_by_user_id  recorded  adopted_users  ORG_INVITE  PERSONAL_PROJECTS  \\\n",
       "0             10803.0       0.0              0           0                  0   \n",
       "1               316.0     136.0              1           1                  0   \n",
       "2              1525.0       0.0              0           1                  0   \n",
       "3              5151.0       1.0              0           0                  0   \n",
       "4              5240.0       5.0              0           0                  0   \n",
       "\n",
       "   SIGNUP  SIGNUP_GOOGLE_AUTH  \n",
       "0       0                   0  \n",
       "1       0                   0  \n",
       "2       0                   0  \n",
       "3       0                   0  \n",
       "4       0                   0  "
      ]
     },
     "execution_count": 14,
     "metadata": {},
     "output_type": "execute_result"
    }
   ],
   "source": [
    "dummy = pd.get_dummies(users['creation_source'], drop_first = True,dtype='int')\n",
    "user2 = pd.concat([users, dummy],axis = 1).drop('creation_source', axis = 1)\n",
    "user2.head()"
   ]
  },
  {
   "cell_type": "markdown",
   "id": "26357dcf",
   "metadata": {},
   "source": [
    "# Build a predictive model"
   ]
  },
  {
   "cell_type": "code",
   "execution_count": 15,
   "id": "b7904ec0",
   "metadata": {},
   "outputs": [],
   "source": [
    "user3 = user2.drop(['name','email','creation_time','last_session_creation_time'], axis =1).dropna()\n",
    "X= user3.drop(['adopted_users'],axis =1)\n",
    "y = user3['adopted_users']"
   ]
  },
  {
   "cell_type": "code",
   "execution_count": null,
   "id": "888e4ae1",
   "metadata": {},
   "outputs": [],
   "source": []
  },
  {
   "cell_type": "code",
   "execution_count": 16,
   "id": "c50e4542",
   "metadata": {},
   "outputs": [],
   "source": [
    "X_train, X_test, y_train, y_test = train_test_split(X, y, stratify=y, test_size = 0.25, random_state = 42)"
   ]
  },
  {
   "cell_type": "code",
   "execution_count": 17,
   "id": "c1c8df59",
   "metadata": {},
   "outputs": [],
   "source": [
    "clf = RandomForestClassifier(random_state=42, class_weight='balanced')"
   ]
  },
  {
   "cell_type": "code",
   "execution_count": 18,
   "id": "4fa8db9a",
   "metadata": {},
   "outputs": [],
   "source": [
    "param_grid = { \n",
    "    'n_estimators': [25, 50, 100, 150], \n",
    "    'max_features': ['sqrt', 'log2', None], \n",
    "    'max_depth': [3, 6, 9], \n",
    "    'max_leaf_nodes': [3, 6, 9], \n",
    "} "
   ]
  },
  {
   "cell_type": "code",
   "execution_count": 19,
   "id": "98af1db2",
   "metadata": {},
   "outputs": [
    {
     "name": "stdout",
     "output_type": "stream",
     "text": [
      "RandomForestClassifier(class_weight='balanced', max_depth=9, max_features=None,\n",
      "                       max_leaf_nodes=9, n_estimators=50, random_state=42)\n",
      "0.9489076147510966\n"
     ]
    }
   ],
   "source": [
    "model = RandomizedSearchCV(clf, error_score='raise',param_distributions=param_grid)\n",
    "model.fit(X_train, y_train)\n",
    "print(model.best_estimator_)\n",
    "print(model.best_score_)"
   ]
  },
  {
   "cell_type": "code",
   "execution_count": 20,
   "id": "29344d4d",
   "metadata": {},
   "outputs": [
    {
     "name": "stdout",
     "output_type": "stream",
     "text": [
      "Accuracy of test set was 0.9438860971524288\n",
      "              precision    recall  f1-score   support\n",
      "\n",
      "           0       0.98      0.95      0.96       958\n",
      "           1       0.82      0.92      0.87       236\n",
      "\n",
      "    accuracy                           0.94      1194\n",
      "   macro avg       0.90      0.94      0.92      1194\n",
      "weighted avg       0.95      0.94      0.95      1194\n",
      "\n"
     ]
    }
   ],
   "source": [
    "model.fit(X_train, y_train)\n",
    "y_pred = model.predict(X_test)\n",
    "print('Accuracy of test set was', accuracy_score(y_test, y_pred))\n",
    "print(classification_report(y_test, y_pred))"
   ]
  },
  {
   "cell_type": "code",
   "execution_count": 21,
   "id": "9b3a8b1d",
   "metadata": {},
   "outputs": [
    {
     "name": "stdout",
     "output_type": "stream",
     "text": [
      "recorded                      0.979059\n",
      "org_id                        0.010177\n",
      "object_id                     0.005689\n",
      "invited_by_user_id            0.004385\n",
      "opted_in_to_mailing_list      0.000297\n",
      "enabled_for_marketing_drip    0.000274\n",
      "ORG_INVITE                    0.000119\n",
      "PERSONAL_PROJECTS             0.000000\n",
      "SIGNUP                        0.000000\n",
      "SIGNUP_GOOGLE_AUTH            0.000000\n",
      "dtype: float64\n"
     ]
    }
   ],
   "source": [
    "imp = pd.Series(model.best_estimator_.feature_importances_, index=X.columns)\n",
    "imp = imp.sort_values(ascending=False)\n",
    "print(imp)"
   ]
  },
  {
   "cell_type": "code",
   "execution_count": null,
   "id": "bd1ad11f",
   "metadata": {},
   "outputs": [],
   "source": []
  }
 ],
 "metadata": {
  "kernelspec": {
   "display_name": "Python 3 (ipykernel)",
   "language": "python",
   "name": "python3"
  },
  "language_info": {
   "codemirror_mode": {
    "name": "ipython",
    "version": 3
   },
   "file_extension": ".py",
   "mimetype": "text/x-python",
   "name": "python",
   "nbconvert_exporter": "python",
   "pygments_lexer": "ipython3",
   "version": "3.10.12"
  },
  "toc": {
   "base_numbering": 1,
   "nav_menu": {},
   "number_sections": true,
   "sideBar": true,
   "skip_h1_title": false,
   "title_cell": "Table of Contents",
   "title_sidebar": "Contents",
   "toc_cell": false,
   "toc_position": {},
   "toc_section_display": true,
   "toc_window_display": false
  }
 },
 "nbformat": 4,
 "nbformat_minor": 5
}
